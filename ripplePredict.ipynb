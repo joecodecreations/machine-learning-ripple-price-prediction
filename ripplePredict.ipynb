{
 "cells": [
  {
   "cell_type": "markdown",
   "metadata": {},
   "source": [
    "# Ripple 'Close' value prediction Using TensorFlow, Pandas, Keras "
   ]
  },
  {
   "cell_type": "code",
   "execution_count": 340,
   "metadata": {
    "collapsed": true
   },
   "outputs": [],
   "source": [
    "import numpy as np\n",
    "import matplotlib.pyplot as plt\n",
    "import pandas as pd\n",
    "from pandas import datetime\n",
    "import math, time\n",
    "import itertools\n",
    "from sklearn import preprocessing\n",
    "import datetime\n",
    "from operator import itemgetter\n",
    "from sklearn.metrics import mean_squared_error\n",
    "from math import sqrt\n",
    "from keras.models import Sequential\n",
    "from keras.layers.core import Dense, Dropout, Activation\n",
    "from keras.layers.recurrent import LSTM"
   ]
  },
  {
   "cell_type": "markdown",
   "metadata": {},
   "source": [
    "## Data Function to Grab CSV and to drop all columns except 'Open','High' and 'Close'"
   ]
  },
  {
   "cell_type": "code",
   "execution_count": 341,
   "metadata": {
    "collapsed": true
   },
   "outputs": [],
   "source": [
    "def get_stock_data(coin_name, normalized=0):\n",
    "    url=\"https://data.ripple.com/v2/exchanges/BTC+rvYAfWj5gh67oV6fW32ZzP3Aw4Eubs59B/XRP?interval=1day&format=csv&start=2016-12-01T00:00:00Z\"\n",
    " #   url=\"http://www.google.com/finance/historical?q=\"+stock_name+\"&startdate=Jul+12%2C+2013&enddate=Jul+11%2C+2017&num=30&ei=rCtlWZGSFN3KsQHwrqWQCw&output=csv\"\n",
    "#     url=\"http://www.google.com/finance/historical?q=%s&ei=u-lHWfGPNNWIsgHHqIqICw&output=csv\" % stock_name \n",
    "\n",
    "    col_names = [\"open\",\"high\",\"low\",\"close\",\"vwap\",\"count\",\"base_currency\",\"base_issuer\",\"base_volume\",\"counter_currency\",\"counter_issuer\",\"counter_volume\",\"open_time\",\"close_time\",\"start\",\"buy_volume\"]\n",
    "   # col_names = ['Date','Open','High','Low','Close','Volume']\n",
    "    \n",
    "    \n",
    "    #pandas read csv file from url provided \n",
    "    stocks = pd.read_csv(url, header=0, names=col_names) \n",
    "    #stocks = pd.read_json(url, typ='series')\n",
    "  \n",
    "    df = pd.DataFrame(stocks)\n",
    "    #print \"Series\\n\", df\n",
    "    #0 open\n",
    "    #1 high\n",
    "    #2 low \n",
    "    #3 close\n",
    "    #4 vwap\n",
    "    #5 count\n",
    "    #6 base_currency (BTC)\n",
    "    #6 base_issuer\n",
    "    #7 base_volume\n",
    "    #8 counter_curency (xrp)\n",
    "    #....\n",
    "    \n",
    "    df.drop(df.columns[[2,4,5,6,7,8,9,10,11,12,13,14,15]], axis=1, inplace=True) \n",
    "    return df"
   ]
  },
  {
   "cell_type": "markdown",
   "metadata": {},
   "source": [
    "## Grab the Information From the CSV File"
   ]
  },
  {
   "cell_type": "code",
   "execution_count": 342,
   "metadata": {},
   "outputs": [
    {
     "data": {
      "text/html": [
       "<div>\n",
       "<style>\n",
       "    .dataframe thead tr:only-child th {\n",
       "        text-align: right;\n",
       "    }\n",
       "\n",
       "    .dataframe thead th {\n",
       "        text-align: left;\n",
       "    }\n",
       "\n",
       "    .dataframe tbody tr th {\n",
       "        vertical-align: top;\n",
       "    }\n",
       "</style>\n",
       "<table border=\"1\" class=\"dataframe\">\n",
       "  <thead>\n",
       "    <tr style=\"text-align: right;\">\n",
       "      <th></th>\n",
       "      <th>open</th>\n",
       "      <th>high</th>\n",
       "      <th>close</th>\n",
       "    </tr>\n",
       "  </thead>\n",
       "  <tbody>\n",
       "    <tr>\n",
       "      <th>195</th>\n",
       "      <td>10376.5500</td>\n",
       "      <td>12900.000</td>\n",
       "      <td>9452.6894</td>\n",
       "    </tr>\n",
       "    <tr>\n",
       "      <th>196</th>\n",
       "      <td>9387.1211</td>\n",
       "      <td>10061.375</td>\n",
       "      <td>9931.7234</td>\n",
       "    </tr>\n",
       "    <tr>\n",
       "      <th>197</th>\n",
       "      <td>9810.6048</td>\n",
       "      <td>10030.080</td>\n",
       "      <td>9939.3700</td>\n",
       "    </tr>\n",
       "    <tr>\n",
       "      <th>198</th>\n",
       "      <td>9962.1440</td>\n",
       "      <td>10305.850</td>\n",
       "      <td>10234.3670</td>\n",
       "    </tr>\n",
       "    <tr>\n",
       "      <th>199</th>\n",
       "      <td>10179.3830</td>\n",
       "      <td>10301.611</td>\n",
       "      <td>9569.3685</td>\n",
       "    </tr>\n",
       "  </tbody>\n",
       "</table>\n",
       "</div>"
      ],
      "text/plain": [
       "           open       high       close\n",
       "195  10376.5500  12900.000   9452.6894\n",
       "196   9387.1211  10061.375   9931.7234\n",
       "197   9810.6048  10030.080   9939.3700\n",
       "198   9962.1440  10305.850  10234.3670\n",
       "199  10179.3830  10301.611   9569.3685"
      ]
     },
     "execution_count": 342,
     "metadata": {},
     "output_type": "execute_result"
    }
   ],
   "source": [
    "coin_name = 'Ripple'\n",
    "df = get_stock_data(coin_name,0)\n",
    "df.tail()"
   ]
  },
  {
   "cell_type": "markdown",
   "metadata": {},
   "source": [
    "## Saving the data to a file for a future use"
   ]
  },
  {
   "cell_type": "code",
   "execution_count": 343,
   "metadata": {
    "collapsed": true
   },
   "outputs": [],
   "source": [
    "today = datetime.date.today()\n",
    "file_name = coin_name+'_stock_%s.csv' % today\n",
    "df.to_csv(file_name)"
   ]
  },
  {
   "cell_type": "code",
   "execution_count": 344,
   "metadata": {},
   "outputs": [
    {
     "data": {
      "text/html": [
       "<div>\n",
       "<style>\n",
       "    .dataframe thead tr:only-child th {\n",
       "        text-align: right;\n",
       "    }\n",
       "\n",
       "    .dataframe thead th {\n",
       "        text-align: left;\n",
       "    }\n",
       "\n",
       "    .dataframe tbody tr th {\n",
       "        vertical-align: top;\n",
       "    }\n",
       "</style>\n",
       "<table border=\"1\" class=\"dataframe\">\n",
       "  <thead>\n",
       "    <tr style=\"text-align: right;\">\n",
       "      <th></th>\n",
       "      <th>open</th>\n",
       "      <th>high</th>\n",
       "      <th>close</th>\n",
       "    </tr>\n",
       "  </thead>\n",
       "  <tbody>\n",
       "    <tr>\n",
       "      <th>0</th>\n",
       "      <td>111.09451</td>\n",
       "      <td>114.02509</td>\n",
       "      <td>113.89522</td>\n",
       "    </tr>\n",
       "    <tr>\n",
       "      <th>1</th>\n",
       "      <td>114.27913</td>\n",
       "      <td>120.26886</td>\n",
       "      <td>117.23008</td>\n",
       "    </tr>\n",
       "    <tr>\n",
       "      <th>2</th>\n",
       "      <td>117.14784</td>\n",
       "      <td>117.92453</td>\n",
       "      <td>117.63012</td>\n",
       "    </tr>\n",
       "    <tr>\n",
       "      <th>3</th>\n",
       "      <td>117.69847</td>\n",
       "      <td>119.39907</td>\n",
       "      <td>118.49610</td>\n",
       "    </tr>\n",
       "    <tr>\n",
       "      <th>4</th>\n",
       "      <td>118.54937</td>\n",
       "      <td>119.97630</td>\n",
       "      <td>117.58332</td>\n",
       "    </tr>\n",
       "  </tbody>\n",
       "</table>\n",
       "</div>"
      ],
      "text/plain": [
       "        open       high      close\n",
       "0  111.09451  114.02509  113.89522\n",
       "1  114.27913  120.26886  117.23008\n",
       "2  117.14784  117.92453  117.63012\n",
       "3  117.69847  119.39907  118.49610\n",
       "4  118.54937  119.97630  117.58332"
      ]
     },
     "execution_count": 344,
     "metadata": {},
     "output_type": "execute_result"
    }
   ],
   "source": [
    "df['high'] = df['high'] / 1000 #* 10\n",
    "df['open'] = df['open'] /1000 #* 10\n",
    "df['close'] = df['close'] /1000 #* 10\n",
    "df.head(5)"
   ]
  },
  {
   "cell_type": "markdown",
   "metadata": {},
   "source": [
    "## Updated load_data function from lstm.py, configured to accept any amount of features.\n",
    "## It is set to calculate the last feature as a result."
   ]
  },
  {
   "cell_type": "code",
   "execution_count": 345,
   "metadata": {
    "collapsed": true
   },
   "outputs": [],
   "source": [
    "def load_data(stock, seq_len):\n",
    "    amount_of_features = len(stock.columns)\n",
    "    data = stock.as_matrix() #pd.DataFrame(stock)\n",
    "    sequence_length = seq_len + 1\n",
    "    result = []\n",
    "    for index in range(len(data) - sequence_length):\n",
    "        result.append(data[index: index + sequence_length])\n",
    "\n",
    "    result = np.array(result)\n",
    "    row = round(0.9 * result.shape[0])\n",
    "    train = result[:int(row), :]\n",
    "    x_train = train[:, :-1]\n",
    "    y_train = train[:, -1][:,-1]\n",
    "    x_test = result[int(row):, :-1]\n",
    "    y_test = result[int(row):, -1][:,-1]\n",
    "\n",
    "    x_train = np.reshape(x_train, (x_train.shape[0], x_train.shape[1], amount_of_features))\n",
    "    x_test = np.reshape(x_test, (x_test.shape[0], x_test.shape[1], amount_of_features))  \n",
    "\n",
    "    return [x_train, y_train, x_test, y_test]\n"
   ]
  },
  {
   "cell_type": "markdown",
   "metadata": {},
   "source": [
    "## Building model functions"
   ]
  },
  {
   "cell_type": "code",
   "execution_count": 346,
   "metadata": {
    "collapsed": true
   },
   "outputs": [],
   "source": [
    "def build_model(layers):\n",
    "    model = Sequential()\n",
    "\n",
    "    model.add(LSTM(\n",
    "        input_dim=layers[0],\n",
    "        output_dim=layers[1],\n",
    "        return_sequences=True))\n",
    "    model.add(Dropout(0.2))\n",
    "\n",
    "    model.add(LSTM(\n",
    "        layers[2],\n",
    "        return_sequences=False))\n",
    "    model.add(Dropout(0.2))\n",
    "\n",
    "    model.add(Dense(\n",
    "        output_dim=layers[2]))\n",
    "    model.add(Activation(\"linear\"))\n",
    "\n",
    "    start = time.time()\n",
    "    model.compile(loss=\"mse\", optimizer=\"rmsprop\",metrics=['accuracy'])\n",
    "    print(\"Compilation Time : \", time.time() - start)\n",
    "    return model\n",
    "\n",
    "def build_model2(layers):\n",
    "        d = 0.2\n",
    "        model = Sequential()\n",
    "        model.add(LSTM(128, input_shape=(layers[1], layers[0]), return_sequences=True))\n",
    "        model.add(Dropout(d))\n",
    "        model.add(LSTM(64, input_shape=(layers[1], layers[0]), return_sequences=False))\n",
    "        model.add(Dropout(d))\n",
    "        model.add(Dense(16, activation=\"relu\", kernel_initializer=\"uniform\"))        \n",
    "        model.add(Dense(1, activation=\"relu\", kernel_initializer=\"uniform\"))\n",
    "        model.compile(loss='mse',optimizer='adam',metrics=['accuracy'])\n",
    "        return model"
   ]
  },
  {
   "cell_type": "markdown",
   "metadata": {},
   "source": [
    "## Setting X and Y for training and testing"
   ]
  },
  {
   "cell_type": "code",
   "execution_count": 347,
   "metadata": {},
   "outputs": [
    {
     "name": "stdout",
     "output_type": "stream",
     "text": [
      "('X_train', (175, 5, 3))\n",
      "('y_train', (175,))\n",
      "('X_test', (19, 5, 3))\n",
      "('y_test', (19,))\n"
     ]
    }
   ],
   "source": [
    "window = 5\n",
    "X_train, y_train, X_test, y_test = load_data(df[::-1], window)\n",
    "print(\"X_train\", X_train.shape)\n",
    "print(\"y_train\", y_train.shape)\n",
    "print(\"X_test\", X_test.shape)\n",
    "print(\"y_test\", y_test.shape)"
   ]
  },
  {
   "cell_type": "markdown",
   "metadata": {},
   "source": [
    "## Loading the model sequence structure"
   ]
  },
  {
   "cell_type": "code",
   "execution_count": 348,
   "metadata": {
    "collapsed": true
   },
   "outputs": [],
   "source": [
    "# model = build_model([3,lag,1])\n",
    "model = build_model2([3,window,1])"
   ]
  },
  {
   "cell_type": "markdown",
   "metadata": {},
   "source": [
    "## Executing the model & RMS/RMSE results"
   ]
  },
  {
   "cell_type": "code",
   "execution_count": 349,
   "metadata": {},
   "outputs": [
    {
     "data": {
      "text/plain": [
       "<keras.callbacks.History at 0x1c56704890>"
      ]
     },
     "execution_count": 349,
     "metadata": {},
     "output_type": "execute_result"
    }
   ],
   "source": [
    "model.fit(\n",
    "    X_train,\n",
    "    y_train,\n",
    "    batch_size=512,\n",
    "    nb_epoch=500, # was 500\n",
    "    validation_split=0.1,\n",
    "    verbose=0)"
   ]
  },
  {
   "cell_type": "code",
   "execution_count": 350,
   "metadata": {},
   "outputs": [
    {
     "name": "stdout",
     "output_type": "stream",
     "text": [
      "Train Score: 81.12 MSE (9.01 RMSE)\n",
      "Test Score: 2.86 MSE (1.69 RMSE)\n"
     ]
    }
   ],
   "source": [
    "trainScore = model.evaluate(X_train, y_train, verbose=0)\n",
    "print('Train Score: %.2f MSE (%.2f RMSE)' % (trainScore[0], math.sqrt(trainScore[0])))\n",
    "\n",
    "testScore = model.evaluate(X_test, y_test, verbose=0)\n",
    "print('Test Score: %.2f MSE (%.2f RMSE)' % (testScore[0], math.sqrt(testScore[0])))"
   ]
  },
  {
   "cell_type": "code",
   "execution_count": 351,
   "metadata": {},
   "outputs": [
    {
     "name": "stdout",
     "output_type": "stream",
     "text": [
      "[[ 113.80523  116.94555  106.91238]\n",
      " [ 117.61168  119.33074  113.38852]\n",
      " [ 118.54937  119.9763   117.58332]\n",
      " [ 117.69847  119.39907  118.4961 ]\n",
      " [ 117.14784  117.92453  117.63012]]\n",
      "(0, 123.14988000000001, 125.71233, -0.020383411319503275, 2.5624460498046773)\n",
      "(1, 120.48192999999999, 122.06984, -0.01300820484679388, 1.5879094775390712)\n",
      "(2, 119.41847, 121.21902, -0.014853729959303674, 1.8005546582031258)\n",
      "(3, 121.39905999999999, 122.70747, -0.010662807788323403, 1.3084061254882897)\n",
      "(4, 118.44674000000001, 118.18301, 0.0022315058251247688, 0.26372608398438047)\n",
      "(5, 115.39286, 115.28669, 0.00092092367229734684, 0.10617024169921763)\n",
      "(6, 116.74575, 117.59241, -0.0071999310714956355, 0.84665722656249898)\n",
      "(7, 114.21171000000001, 114.52197, -0.0027091311852944777, 0.31025502685545803)\n",
      "(8, 115.13284, 114.64774, 0.0042312602318423931, 0.48510440429687662)\n",
      "(9, 113.49925, 112.83398, 0.0058959685655433081, 0.66526562500000352)\n",
      "(10, 114.21205999999999, 113.59454, 0.0054362137039785097, 0.61752417236327517)\n",
      "(11, 112.06941, 111.04481, 0.0092269291072091253, 1.0246025659179736)\n",
      "(12, 110.95974000000001, 110.74438, 0.0019446153846154335, 0.2153552343750107)\n",
      "(13, 106.91238, 107.47359, -0.0052218135786622488, 0.56120703613281364)\n",
      "(14, 113.38852, 112.87592, 0.004541241647697758, 0.5125968432617185)\n",
      "(15, 117.58332, 115.21461, 0.020559068261837732, 2.368705131835938)\n",
      "(16, 118.49610000000001, 115.04862, 0.029965399018134109, 3.4474778686523564)\n",
      "(17, 117.63011999999999, 113.77674, 0.033867897228883947, 3.8533789721679597)\n",
      "(18, 117.23008, 115.1312, 0.018230308144666418, 2.0988773022460947)\n"
     ]
    }
   ],
   "source": [
    "print(X_test[-1])\n",
    "diff=[]\n",
    "ratio=[]\n",
    "p = model.predict(X_test)\n",
    "for u in range(len(y_test)):\n",
    "    pr = p[u][0]\n",
    "    ratio.append((y_test[u]/pr)-1)\n",
    "    diff.append(abs(y_test[u]- pr))\n",
    "    print(u, y_test[u], pr, (y_test[u]/pr)-1, abs(y_test[u]- pr))"
   ]
  },
  {
   "cell_type": "markdown",
   "metadata": {},
   "source": [
    "## Predictions vs Real results"
   ]
  },
  {
   "cell_type": "code",
   "execution_count": 352,
   "metadata": {},
   "outputs": [
    {
     "data": {
      "image/png": "[encoded data removed]",
      "text/plain": [
       "<matplotlib.figure.Figure at 0x1c585d55d0>"
      ]
     },
     "metadata": {},
     "output_type": "display_data"
    }
   ],
   "source": [
    "import matplotlib.pyplot as plt2\n",
    "\n",
    "plt2.plot(p,color='red', label='prediction')\n",
    "plt2.plot(y_test,color='blue', label='y_test')\n",
    "plt2.legend(loc='center right')\n",
    "plt2.show()"
   ]
  }
 ],
 "metadata": {
  "anaconda-cloud": {},
  "kernelspec": {
   "display_name": "Python 2",
   "language": "python",
   "name": "python2"
  },
  "language_info": {
   "codemirror_mode": {
    "name": "ipython",
    "version": 2
   },
   "file_extension": ".py",
   "mimetype": "text/x-python",
   "name": "python",
   "nbconvert_exporter": "python",
   "pygments_lexer": "ipython2",
   "version": "2.7.13"
  }
 },
 "nbformat": 4,
 "nbformat_minor": 1
}
